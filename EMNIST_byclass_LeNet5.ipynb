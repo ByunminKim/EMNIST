{
 "cells": [
  {
   "cell_type": "code",
   "execution_count": 1,
   "id": "11418821",
   "metadata": {},
   "outputs": [
    {
     "name": "stdout",
     "output_type": "stream",
     "text": [
      "sklearn version:  0.24.2\n",
      "TF version:  2.6.2\n",
      "No GPU was detected. CNNs can be very slow without a GPU.\n",
      "GPU installed:  True\n"
     ]
    }
   ],
   "source": [
    "# Python ≥3.5 is required\n",
    "import sys\n",
    "assert sys.version_info >= (3, 5)\n",
    "\n",
    "# Scikit-Learn ≥0.20 is required\n",
    "import sklearn\n",
    "print(\"sklearn version: \", sklearn.__version__)\n",
    "assert sklearn.__version__ >= \"0.20\"\n",
    "\n",
    "try:\n",
    "    # %tensorflow_version only exists in Colab.\n",
    "    %tensorflow_version 2.x\n",
    "    IS_COLAB = True\n",
    "except Exception:\n",
    "    IS_COLAB = False\n",
    "\n",
    "# TensorFlow ≥2.0 is required\n",
    "import tensorflow as tf\n",
    "from tensorflow import keras\n",
    "print(\"TF version: \", tf.__version__)\n",
    "assert tf.__version__ >= \"2.0\"\n",
    "\n",
    "if not tf.config.list_physical_devices('GPU'):\n",
    "    print(\"No GPU was detected. CNNs can be very slow without a GPU.\")\n",
    "    if IS_COLAB:\n",
    "        print(\"Go to Runtime > Change runtime and select a GPU hardware accelerator.\")\n",
    "\n",
    "# GPU test\n",
    "print(\"GPU installed: \",tf.test.is_built_with_gpu_support())\n",
    "\n",
    "# To prevent \"CUDNN_STATUS_ALLOC_FAILED\" error with GPUs\n",
    "gpus = tf.config.experimental.list_physical_devices('GPU')\n",
    "if gpus:\n",
    "  try:\n",
    "    # Currently, memory growth needs to be the same across GPUs\n",
    "    for gpu in gpus:\n",
    "      tf.config.experimental.set_memory_growth(gpu, True)\n",
    "    logical_gpus = tf.config.experimental.list_logical_devices('GPU')\n",
    "    print(len(gpus), \"Physical GPUs,\", len(logical_gpus), \"Logical GPUs\")\n",
    "  except RuntimeError as e:\n",
    "    # Memory growth must be set before GPUs have been initialized\n",
    "    print(e)\n",
    "    \n",
    "# Common imports\n",
    "import numpy as np\n",
    "import os\n",
    "\n",
    "# to make this notebook's output stable across runs\n",
    "np.random.seed(42)\n",
    "tf.random.set_seed(42)\n",
    "\n",
    "# To plot pretty figures\n",
    "%matplotlib inline\n",
    "import matplotlib as mpl\n",
    "import matplotlib.pyplot as plt\n",
    "mpl.rc('axes', labelsize=14)\n",
    "mpl.rc('xtick', labelsize=12)\n",
    "mpl.rc('ytick', labelsize=12)\n",
    "\n",
    "# Where to save the figures\n",
    "PROJECT_ROOT_DIR = \".\"\n",
    "CHAPTER_ID = \"cnn\"\n",
    "IMAGES_PATH = os.path.join(PROJECT_ROOT_DIR, \"images\", CHAPTER_ID)\n",
    "os.makedirs(IMAGES_PATH, exist_ok=True)\n",
    "\n",
    "def save_fig(fig_id, tight_layout=True, fig_extension=\"png\", resolution=300):\n",
    "    path = os.path.join(IMAGES_PATH, fig_id + \".\" + fig_extension)\n",
    "    print(\"Saving figure\", fig_id)\n",
    "    if tight_layout:\n",
    "        plt.tight_layout()\n",
    "    plt.savefig(path, format=fig_extension, dpi=resolution)\n",
    "    \n",
    "# Ignore useless warnings (see SciPy issue #5998)\n",
    "import warnings\n",
    "warnings.filterwarnings(action=\"ignore\", message=\"^internal gelsd\")   "
   ]
  },
  {
   "cell_type": "code",
   "execution_count": 2,
   "id": "ee3acc45",
   "metadata": {},
   "outputs": [],
   "source": [
    "import tensorflow as tf\n",
    "from tensorflow import keras"
   ]
  },
  {
   "cell_type": "code",
   "execution_count": 3,
   "id": "68d32ba3",
   "metadata": {},
   "outputs": [
    {
     "data": {
      "text/plain": [
       "'C:\\\\ANN2022\\\\project'"
      ]
     },
     "execution_count": 3,
     "metadata": {},
     "output_type": "execute_result"
    }
   ],
   "source": [
    "os.getcwd()"
   ]
  },
  {
   "cell_type": "code",
   "execution_count": 4,
   "id": "0635bb59",
   "metadata": {},
   "outputs": [],
   "source": [
    "# file이 있는 path로 이동\n",
    "os.chdir(\"./emnist\")\n",
    "# os.chdir('/content/drive/MyDrive/ANN/') "
   ]
  },
  {
   "cell_type": "code",
   "execution_count": 5,
   "id": "5142f588",
   "metadata": {},
   "outputs": [
    {
     "name": "stdout",
     "output_type": "stream",
     "text": [
      "C:\\ANN2022\\project\\emnist\n"
     ]
    }
   ],
   "source": [
    "# 현재 작업 경로 확인\n",
    "path = os.getcwd()\n",
    "print(path)"
   ]
  },
  {
   "cell_type": "code",
   "execution_count": 6,
   "id": "2f784aa3",
   "metadata": {},
   "outputs": [],
   "source": [
    "# Load EMNIST dataset\n",
    "import pandas as pd\n",
    "# import gzip\n",
    "\n",
    "byclass_train = pd.read_csv(\"./emnist-byclass-train.csv\")\n",
    "byclass_test = pd.read_csv(\"./emnist-byclass-test.csv\")\n",
    "mapp = pd.read_csv(\"./emnist-byclass-mapping.txt\", \n",
    "                   delimiter = ' ', index_col=0, header=None, squeeze=True)"
   ]
  },
  {
   "cell_type": "code",
   "execution_count": 7,
   "id": "389a1d1c",
   "metadata": {},
   "outputs": [
    {
     "data": {
      "text/plain": [
       "(697931, 785)"
      ]
     },
     "execution_count": 7,
     "metadata": {},
     "output_type": "execute_result"
    }
   ],
   "source": [
    "# DataFrame\n",
    "byclass_train.shape"
   ]
  },
  {
   "cell_type": "code",
   "execution_count": 8,
   "id": "14b38ff8",
   "metadata": {},
   "outputs": [
    {
     "data": {
      "text/html": [
       "<div>\n",
       "<style scoped>\n",
       "    .dataframe tbody tr th:only-of-type {\n",
       "        vertical-align: middle;\n",
       "    }\n",
       "\n",
       "    .dataframe tbody tr th {\n",
       "        vertical-align: top;\n",
       "    }\n",
       "\n",
       "    .dataframe thead th {\n",
       "        text-align: right;\n",
       "    }\n",
       "</style>\n",
       "<table border=\"1\" class=\"dataframe\">\n",
       "  <thead>\n",
       "    <tr style=\"text-align: right;\">\n",
       "      <th></th>\n",
       "      <th>35</th>\n",
       "      <th>0</th>\n",
       "      <th>0.1</th>\n",
       "      <th>0.2</th>\n",
       "      <th>0.3</th>\n",
       "      <th>0.4</th>\n",
       "      <th>0.5</th>\n",
       "      <th>0.6</th>\n",
       "      <th>0.7</th>\n",
       "      <th>0.8</th>\n",
       "      <th>...</th>\n",
       "      <th>0.466</th>\n",
       "      <th>0.467</th>\n",
       "      <th>0.468</th>\n",
       "      <th>0.469</th>\n",
       "      <th>0.470</th>\n",
       "      <th>0.471</th>\n",
       "      <th>0.472</th>\n",
       "      <th>0.473</th>\n",
       "      <th>0.474</th>\n",
       "      <th>0.475</th>\n",
       "    </tr>\n",
       "  </thead>\n",
       "  <tbody>\n",
       "    <tr>\n",
       "      <th>0</th>\n",
       "      <td>36</td>\n",
       "      <td>0</td>\n",
       "      <td>0</td>\n",
       "      <td>0</td>\n",
       "      <td>0</td>\n",
       "      <td>0</td>\n",
       "      <td>0</td>\n",
       "      <td>0</td>\n",
       "      <td>0</td>\n",
       "      <td>0</td>\n",
       "      <td>...</td>\n",
       "      <td>0</td>\n",
       "      <td>0</td>\n",
       "      <td>0</td>\n",
       "      <td>0</td>\n",
       "      <td>0</td>\n",
       "      <td>0</td>\n",
       "      <td>0</td>\n",
       "      <td>0</td>\n",
       "      <td>0</td>\n",
       "      <td>0</td>\n",
       "    </tr>\n",
       "    <tr>\n",
       "      <th>1</th>\n",
       "      <td>6</td>\n",
       "      <td>0</td>\n",
       "      <td>0</td>\n",
       "      <td>0</td>\n",
       "      <td>0</td>\n",
       "      <td>0</td>\n",
       "      <td>0</td>\n",
       "      <td>0</td>\n",
       "      <td>0</td>\n",
       "      <td>0</td>\n",
       "      <td>...</td>\n",
       "      <td>0</td>\n",
       "      <td>0</td>\n",
       "      <td>0</td>\n",
       "      <td>0</td>\n",
       "      <td>0</td>\n",
       "      <td>0</td>\n",
       "      <td>0</td>\n",
       "      <td>0</td>\n",
       "      <td>0</td>\n",
       "      <td>0</td>\n",
       "    </tr>\n",
       "    <tr>\n",
       "      <th>2</th>\n",
       "      <td>3</td>\n",
       "      <td>0</td>\n",
       "      <td>0</td>\n",
       "      <td>0</td>\n",
       "      <td>0</td>\n",
       "      <td>0</td>\n",
       "      <td>0</td>\n",
       "      <td>0</td>\n",
       "      <td>0</td>\n",
       "      <td>0</td>\n",
       "      <td>...</td>\n",
       "      <td>0</td>\n",
       "      <td>0</td>\n",
       "      <td>0</td>\n",
       "      <td>0</td>\n",
       "      <td>0</td>\n",
       "      <td>0</td>\n",
       "      <td>0</td>\n",
       "      <td>0</td>\n",
       "      <td>0</td>\n",
       "      <td>0</td>\n",
       "    </tr>\n",
       "    <tr>\n",
       "      <th>3</th>\n",
       "      <td>22</td>\n",
       "      <td>0</td>\n",
       "      <td>0</td>\n",
       "      <td>0</td>\n",
       "      <td>0</td>\n",
       "      <td>0</td>\n",
       "      <td>0</td>\n",
       "      <td>0</td>\n",
       "      <td>0</td>\n",
       "      <td>0</td>\n",
       "      <td>...</td>\n",
       "      <td>0</td>\n",
       "      <td>0</td>\n",
       "      <td>0</td>\n",
       "      <td>0</td>\n",
       "      <td>0</td>\n",
       "      <td>0</td>\n",
       "      <td>0</td>\n",
       "      <td>0</td>\n",
       "      <td>0</td>\n",
       "      <td>0</td>\n",
       "    </tr>\n",
       "    <tr>\n",
       "      <th>4</th>\n",
       "      <td>38</td>\n",
       "      <td>0</td>\n",
       "      <td>0</td>\n",
       "      <td>0</td>\n",
       "      <td>0</td>\n",
       "      <td>0</td>\n",
       "      <td>0</td>\n",
       "      <td>0</td>\n",
       "      <td>0</td>\n",
       "      <td>0</td>\n",
       "      <td>...</td>\n",
       "      <td>0</td>\n",
       "      <td>0</td>\n",
       "      <td>0</td>\n",
       "      <td>0</td>\n",
       "      <td>0</td>\n",
       "      <td>0</td>\n",
       "      <td>0</td>\n",
       "      <td>0</td>\n",
       "      <td>0</td>\n",
       "      <td>0</td>\n",
       "    </tr>\n",
       "  </tbody>\n",
       "</table>\n",
       "<p>5 rows × 785 columns</p>\n",
       "</div>"
      ],
      "text/plain": [
       "   35  0  0.1  0.2  0.3  0.4  0.5  0.6  0.7  0.8  ...  0.466  0.467  0.468  \\\n",
       "0  36  0    0    0    0    0    0    0    0    0  ...      0      0      0   \n",
       "1   6  0    0    0    0    0    0    0    0    0  ...      0      0      0   \n",
       "2   3  0    0    0    0    0    0    0    0    0  ...      0      0      0   \n",
       "3  22  0    0    0    0    0    0    0    0    0  ...      0      0      0   \n",
       "4  38  0    0    0    0    0    0    0    0    0  ...      0      0      0   \n",
       "\n",
       "   0.469  0.470  0.471  0.472  0.473  0.474  0.475  \n",
       "0      0      0      0      0      0      0      0  \n",
       "1      0      0      0      0      0      0      0  \n",
       "2      0      0      0      0      0      0      0  \n",
       "3      0      0      0      0      0      0      0  \n",
       "4      0      0      0      0      0      0      0  \n",
       "\n",
       "[5 rows x 785 columns]"
      ]
     },
     "execution_count": 8,
     "metadata": {},
     "output_type": "execute_result"
    }
   ],
   "source": [
    "byclass_train.head()"
   ]
  },
  {
   "cell_type": "code",
   "execution_count": 9,
   "id": "0ce1db57",
   "metadata": {},
   "outputs": [
    {
     "data": {
      "text/plain": [
       "(116322, 785)"
      ]
     },
     "execution_count": 9,
     "metadata": {},
     "output_type": "execute_result"
    }
   ],
   "source": [
    "byclass_test.shape"
   ]
  },
  {
   "cell_type": "code",
   "execution_count": 10,
   "id": "42f8d327",
   "metadata": {},
   "outputs": [
    {
     "data": {
      "text/html": [
       "<div>\n",
       "<style scoped>\n",
       "    .dataframe tbody tr th:only-of-type {\n",
       "        vertical-align: middle;\n",
       "    }\n",
       "\n",
       "    .dataframe tbody tr th {\n",
       "        vertical-align: top;\n",
       "    }\n",
       "\n",
       "    .dataframe thead th {\n",
       "        text-align: right;\n",
       "    }\n",
       "</style>\n",
       "<table border=\"1\" class=\"dataframe\">\n",
       "  <thead>\n",
       "    <tr style=\"text-align: right;\">\n",
       "      <th></th>\n",
       "      <th>18</th>\n",
       "      <th>0</th>\n",
       "      <th>0.1</th>\n",
       "      <th>0.2</th>\n",
       "      <th>0.3</th>\n",
       "      <th>0.4</th>\n",
       "      <th>0.5</th>\n",
       "      <th>0.6</th>\n",
       "      <th>0.7</th>\n",
       "      <th>0.8</th>\n",
       "      <th>...</th>\n",
       "      <th>0.652</th>\n",
       "      <th>0.653</th>\n",
       "      <th>0.654</th>\n",
       "      <th>0.655</th>\n",
       "      <th>0.656</th>\n",
       "      <th>0.657</th>\n",
       "      <th>0.658</th>\n",
       "      <th>0.659</th>\n",
       "      <th>0.660</th>\n",
       "      <th>0.661</th>\n",
       "    </tr>\n",
       "  </thead>\n",
       "  <tbody>\n",
       "    <tr>\n",
       "      <th>0</th>\n",
       "      <td>36</td>\n",
       "      <td>0</td>\n",
       "      <td>0</td>\n",
       "      <td>0</td>\n",
       "      <td>0</td>\n",
       "      <td>0</td>\n",
       "      <td>0</td>\n",
       "      <td>0</td>\n",
       "      <td>0</td>\n",
       "      <td>0</td>\n",
       "      <td>...</td>\n",
       "      <td>0</td>\n",
       "      <td>0</td>\n",
       "      <td>0</td>\n",
       "      <td>0</td>\n",
       "      <td>0</td>\n",
       "      <td>0</td>\n",
       "      <td>0</td>\n",
       "      <td>0</td>\n",
       "      <td>0</td>\n",
       "      <td>0</td>\n",
       "    </tr>\n",
       "    <tr>\n",
       "      <th>1</th>\n",
       "      <td>0</td>\n",
       "      <td>0</td>\n",
       "      <td>0</td>\n",
       "      <td>0</td>\n",
       "      <td>0</td>\n",
       "      <td>0</td>\n",
       "      <td>0</td>\n",
       "      <td>0</td>\n",
       "      <td>0</td>\n",
       "      <td>0</td>\n",
       "      <td>...</td>\n",
       "      <td>0</td>\n",
       "      <td>0</td>\n",
       "      <td>0</td>\n",
       "      <td>0</td>\n",
       "      <td>0</td>\n",
       "      <td>0</td>\n",
       "      <td>0</td>\n",
       "      <td>0</td>\n",
       "      <td>0</td>\n",
       "      <td>0</td>\n",
       "    </tr>\n",
       "    <tr>\n",
       "      <th>2</th>\n",
       "      <td>3</td>\n",
       "      <td>0</td>\n",
       "      <td>0</td>\n",
       "      <td>0</td>\n",
       "      <td>0</td>\n",
       "      <td>0</td>\n",
       "      <td>0</td>\n",
       "      <td>0</td>\n",
       "      <td>0</td>\n",
       "      <td>0</td>\n",
       "      <td>...</td>\n",
       "      <td>0</td>\n",
       "      <td>0</td>\n",
       "      <td>0</td>\n",
       "      <td>0</td>\n",
       "      <td>0</td>\n",
       "      <td>0</td>\n",
       "      <td>0</td>\n",
       "      <td>0</td>\n",
       "      <td>0</td>\n",
       "      <td>0</td>\n",
       "    </tr>\n",
       "    <tr>\n",
       "      <th>3</th>\n",
       "      <td>33</td>\n",
       "      <td>0</td>\n",
       "      <td>0</td>\n",
       "      <td>0</td>\n",
       "      <td>0</td>\n",
       "      <td>0</td>\n",
       "      <td>0</td>\n",
       "      <td>0</td>\n",
       "      <td>0</td>\n",
       "      <td>0</td>\n",
       "      <td>...</td>\n",
       "      <td>0</td>\n",
       "      <td>0</td>\n",
       "      <td>0</td>\n",
       "      <td>0</td>\n",
       "      <td>0</td>\n",
       "      <td>0</td>\n",
       "      <td>0</td>\n",
       "      <td>0</td>\n",
       "      <td>0</td>\n",
       "      <td>0</td>\n",
       "    </tr>\n",
       "    <tr>\n",
       "      <th>4</th>\n",
       "      <td>30</td>\n",
       "      <td>0</td>\n",
       "      <td>0</td>\n",
       "      <td>0</td>\n",
       "      <td>0</td>\n",
       "      <td>0</td>\n",
       "      <td>0</td>\n",
       "      <td>0</td>\n",
       "      <td>0</td>\n",
       "      <td>0</td>\n",
       "      <td>...</td>\n",
       "      <td>0</td>\n",
       "      <td>0</td>\n",
       "      <td>0</td>\n",
       "      <td>0</td>\n",
       "      <td>0</td>\n",
       "      <td>0</td>\n",
       "      <td>0</td>\n",
       "      <td>0</td>\n",
       "      <td>0</td>\n",
       "      <td>0</td>\n",
       "    </tr>\n",
       "  </tbody>\n",
       "</table>\n",
       "<p>5 rows × 785 columns</p>\n",
       "</div>"
      ],
      "text/plain": [
       "   18  0  0.1  0.2  0.3  0.4  0.5  0.6  0.7  0.8  ...  0.652  0.653  0.654  \\\n",
       "0  36  0    0    0    0    0    0    0    0    0  ...      0      0      0   \n",
       "1   0  0    0    0    0    0    0    0    0    0  ...      0      0      0   \n",
       "2   3  0    0    0    0    0    0    0    0    0  ...      0      0      0   \n",
       "3  33  0    0    0    0    0    0    0    0    0  ...      0      0      0   \n",
       "4  30  0    0    0    0    0    0    0    0    0  ...      0      0      0   \n",
       "\n",
       "   0.655  0.656  0.657  0.658  0.659  0.660  0.661  \n",
       "0      0      0      0      0      0      0      0  \n",
       "1      0      0      0      0      0      0      0  \n",
       "2      0      0      0      0      0      0      0  \n",
       "3      0      0      0      0      0      0      0  \n",
       "4      0      0      0      0      0      0      0  \n",
       "\n",
       "[5 rows x 785 columns]"
      ]
     },
     "execution_count": 10,
     "metadata": {},
     "output_type": "execute_result"
    }
   ],
   "source": [
    "byclass_test.head()"
   ]
  },
  {
   "cell_type": "code",
   "execution_count": 11,
   "id": "71e8409b",
   "metadata": {},
   "outputs": [
    {
     "name": "stdout",
     "output_type": "stream",
     "text": [
      "number of classes:  62\n"
     ]
    }
   ],
   "source": [
    "classes = len(byclass_train['35'].value_counts())\n",
    "print('number of classes: ', classes)"
   ]
  },
  {
   "cell_type": "code",
   "execution_count": 12,
   "id": "b965e35c",
   "metadata": {},
   "outputs": [
    {
     "data": {
      "image/png": "[encoded data removed]",
      "text/plain": [
       "<Figure size 1296x288 with 1 Axes>"
      ]
     },
     "metadata": {
      "needs_background": "light"
     },
     "output_type": "display_data"
    }
   ],
   "source": [
    "(byclass_train.groupby(['35']).size()).plot(kind='bar', figsize=(18, 4))\n",
    "plt.title('numOfInstance')\n",
    "plt.show()"
   ]
  },
  {
   "cell_type": "code",
   "execution_count": 13,
   "id": "40566854",
   "metadata": {},
   "outputs": [
    {
     "data": {
      "text/plain": [
       "'# 30분 이상 소요..\\n\\nfrom sklearn.manifold import TSNE\\n\\nimage_tsne = TSNE(n_components=2).fit_transform(balanced_train)'"
      ]
     },
     "execution_count": 13,
     "metadata": {},
     "output_type": "execute_result"
    }
   ],
   "source": [
    "\"\"\"# 30분 이상 소요..\n",
    "\n",
    "from sklearn.manifold import TSNE\n",
    "\n",
    "image_tsne = TSNE(n_components=2).fit_transform(balanced_train)\"\"\""
   ]
  },
  {
   "cell_type": "code",
   "execution_count": 14,
   "id": "2eb0f77b",
   "metadata": {},
   "outputs": [
    {
     "data": {
      "text/plain": [
       "'# seaborn lib 설치 필요\\n\\nimport seaborn as sns\\n\\nplt.figure(figsize=(16,10))\\nplt.title(\"Digits T-SNE visualization\", fontsize=25)\\nsns.scatterplot(\\n    x=image_tsne[:,0], y=image_tsne[:,1],\\n    hue=byclass_train[\"35\"],\\n    palette=sns.color_palette(\"hls\", 62),\\n    legend=\"full\"\\n)\\nplt.show()'"
      ]
     },
     "execution_count": 14,
     "metadata": {},
     "output_type": "execute_result"
    }
   ],
   "source": [
    "\"\"\"# seaborn lib 설치 필요\n",
    "\n",
    "import seaborn as sns\n",
    "\n",
    "plt.figure(figsize=(16,10))\n",
    "plt.title(\"Digits T-SNE visualization\", fontsize=25)\n",
    "sns.scatterplot(\n",
    "    x=image_tsne[:,0], y=image_tsne[:,1],\n",
    "    hue=byclass_train[\"35\"],\n",
    "    palette=sns.color_palette(\"hls\", 62),\n",
    "    legend=\"full\"\n",
    ")\n",
    "plt.show()\"\"\""
   ]
  },
  {
   "cell_type": "code",
   "execution_count": 15,
   "id": "e777e9b9",
   "metadata": {},
   "outputs": [],
   "source": [
    "# label만 뽑아내기\n",
    "y_train_full = byclass_train[['35']]\n",
    "\n",
    "# data만 뽑아내기\n",
    "X_train_full = byclass_train.drop(['35'], axis=1)"
   ]
  },
  {
   "cell_type": "code",
   "execution_count": 16,
   "id": "48440888",
   "metadata": {},
   "outputs": [],
   "source": [
    "# test에 대해서 반복\n",
    "y_test = byclass_test[['18']]\n",
    "X_test = byclass_test.drop(['18'], axis=1)"
   ]
  },
  {
   "cell_type": "code",
   "execution_count": 17,
   "id": "b225571d",
   "metadata": {},
   "outputs": [],
   "source": [
    "# pandas DF를 numpy로 바꿔주기\n",
    "X_train_full, y_train_full = X_train_full.to_numpy(), y_train_full.to_numpy()\n",
    "X_test, y_test = X_test.to_numpy(), y_test.to_numpy()"
   ]
  },
  {
   "cell_type": "code",
   "execution_count": 18,
   "id": "51ae00bd",
   "metadata": {},
   "outputs": [],
   "source": [
    "# Normalise data\n",
    "X_train_full = X_train_full/255.\n",
    "X_test = X_test/255."
   ]
  },
  {
   "cell_type": "code",
   "execution_count": 19,
   "id": "ddb2458c",
   "metadata": {},
   "outputs": [
    {
     "data": {
      "text/plain": [
       "array([[0., 0., 0., ..., 0., 0., 0.],\n",
       "       [0., 0., 0., ..., 0., 0., 0.],\n",
       "       [0., 0., 0., ..., 0., 0., 0.],\n",
       "       ...,\n",
       "       [0., 0., 0., ..., 0., 0., 0.],\n",
       "       [0., 0., 0., ..., 0., 0., 0.],\n",
       "       [0., 0., 0., ..., 0., 0., 0.]], dtype=float32)"
      ]
     },
     "execution_count": 19,
     "metadata": {},
     "output_type": "execute_result"
    }
   ],
   "source": [
    "X_train_full.astype('float32')\n",
    "X_test.astype('float32')"
   ]
  },
  {
   "cell_type": "code",
   "execution_count": 20,
   "id": "26324939",
   "metadata": {},
   "outputs": [
    {
     "name": "stdout",
     "output_type": "stream",
     "text": [
      "X_train.shape: (697931, 28, 28, 1)\n",
      "X_test.shape: (116322, 28, 28, 1)\n"
     ]
    }
   ],
   "source": [
    "# Reshape image for CNN\n",
    "X_train_full = X_train_full.reshape(-1, 28, 28, 1)\n",
    "\n",
    "X_test = X_test.reshape(-1, 28, 28, 1)\n",
    "\n",
    "print(\"X_train.shape:\", X_train_full.shape)\n",
    "print(\"X_test.shape:\", X_test.shape)"
   ]
  },
  {
   "cell_type": "code",
   "execution_count": 21,
   "id": "ff17ddc3",
   "metadata": {},
   "outputs": [
    {
     "name": "stdout",
     "output_type": "stream",
     "text": [
      "number of classes:  62\n",
      "y_train:  (697931, 62)\n",
      "y_test:  (116322, 62)\n"
     ]
    }
   ],
   "source": [
    "from tensorflow.keras import utils\n",
    "from tensorflow.keras.utils import to_categorical\n",
    "\n",
    "print('number of classes: ', classes)\n",
    "\n",
    "# One hot encoding\n",
    "y_train_full = to_categorical(y_train_full, classes)\n",
    "y_test = to_categorical(y_test, classes)\n",
    "print(\"y_train: \", y_train_full.shape)\n",
    "print(\"y_test: \", y_test.shape)"
   ]
  },
  {
   "cell_type": "code",
   "execution_count": 22,
   "id": "e4cae8a1",
   "metadata": {},
   "outputs": [],
   "source": [
    "# generate train and valid dataset\n",
    "from sklearn.model_selection import train_test_split\n",
    "\n",
    "X_train, X_valid, y_train, y_valid = train_test_split(\n",
    "    X_train_full, y_train_full, test_size=0.2, random_state=321)"
   ]
  },
  {
   "cell_type": "code",
   "execution_count": 23,
   "id": "c1242af8",
   "metadata": {},
   "outputs": [
    {
     "name": "stdout",
     "output_type": "stream",
     "text": [
      "(558344, 28, 28, 1) float64\n",
      "(558344, 62) float32\n"
     ]
    }
   ],
   "source": [
    "# Print shape and datatype of X_rain_full\n",
    "\n",
    "print(X_train.shape, X_train.dtype)\n",
    "print(y_train.shape, y_train.dtype)"
   ]
  },
  {
   "cell_type": "markdown",
   "id": "640d533e",
   "metadata": {},
   "source": [
    "# Modeling"
   ]
  },
  {
   "cell_type": "markdown",
   "id": "f87f19cc",
   "metadata": {},
   "source": [
    "## LeNet-5"
   ]
  },
  {
   "cell_type": "code",
   "execution_count": 36,
   "id": "2d5ccae2",
   "metadata": {},
   "outputs": [],
   "source": [
    "from functools import partial\n",
    "from keras import Model\n",
    "from keras.layers import Conv2D, MaxPooling2D, Input, Dense, Flatten,Activation, Dropout\n",
    "\n",
    "# LeNet-5\n",
    "tf.random.set_seed(42)\n",
    "np.random.seed(42)\n",
    "\n",
    "input_img = Input(shape=(28, 28, 1))\n",
    "\n",
    "x = Conv2D(6, (5, 5), padding='same', activation='relu')(input_img)\n",
    "x = MaxPooling2D(pool_size = (2,2))(x)\n",
    "\n",
    "x = Conv2D(16, (5, 5), padding='same', activation='relu')(x)\n",
    "x = MaxPooling2D(pool_size = (2,2))(x)\n",
    "\n",
    "x = Conv2D(120, (5, 5), padding='same', activation='relu')(x)\n",
    "\n",
    "x = Flatten()(x)\n",
    "x = Dense(units=84, activation='relu')(x)\n",
    "output = Dense(units=62, activation='softmax')(x)\n",
    "\n",
    "lenet5_Model = Model(inputs=input_img, outputs=output)"
   ]
  },
  {
   "cell_type": "code",
   "execution_count": 37,
   "id": "5c1e443e",
   "metadata": {},
   "outputs": [
    {
     "name": "stdout",
     "output_type": "stream",
     "text": [
      "Model: \"model_2\"\n",
      "_________________________________________________________________\n",
      "Layer (type)                 Output Shape              Param #   \n",
      "=================================================================\n",
      "input_13 (InputLayer)        [(None, 28, 28, 1)]       0         \n",
      "_________________________________________________________________\n",
      "conv2d_34 (Conv2D)           (None, 28, 28, 6)         156       \n",
      "_________________________________________________________________\n",
      "max_pooling2d_22 (MaxPooling (None, 14, 14, 6)         0         \n",
      "_________________________________________________________________\n",
      "conv2d_35 (Conv2D)           (None, 14, 14, 16)        2416      \n",
      "_________________________________________________________________\n",
      "max_pooling2d_23 (MaxPooling (None, 7, 7, 16)          0         \n",
      "_________________________________________________________________\n",
      "conv2d_36 (Conv2D)           (None, 7, 7, 120)         48120     \n",
      "_________________________________________________________________\n",
      "flatten_11 (Flatten)         (None, 5880)              0         \n",
      "_________________________________________________________________\n",
      "dense_16 (Dense)             (None, 84)                494004    \n",
      "_________________________________________________________________\n",
      "dense_17 (Dense)             (None, 62)                5270      \n",
      "=================================================================\n",
      "Total params: 549,966\n",
      "Trainable params: 549,966\n",
      "Non-trainable params: 0\n",
      "_________________________________________________________________\n"
     ]
    }
   ],
   "source": [
    "lenet5_Model.summary()"
   ]
  },
  {
   "cell_type": "code",
   "execution_count": 38,
   "id": "b7c9304d",
   "metadata": {},
   "outputs": [
    {
     "data": {
      "image/svg+xml": [
       "<svg height=\"499pt\" viewBox=\"0.00 0.00 398.00 719.00\" width=\"276pt\" xmlns=\"http://www.w3.org/2000/svg\" xmlns:xlink=\"http://www.w3.org/1999/xlink\">\n",
       "<g class=\"graph\" id=\"graph0\" transform=\"scale(0.694444 0.694444) rotate(0) translate(4 715)\">\n",
       "<title>G</title>\n",
       "<polygon fill=\"white\" points=\"-4,4 -4,-715 394,-715 394,4 -4,4\" stroke=\"none\"/>\n",
       "<!-- 1368891409520 -->\n",
       "<g class=\"node\" id=\"node1\"><title>1368891409520</title>\n",
       "<polygon fill=\"none\" points=\"40,-664.5 40,-710.5 350,-710.5 350,-664.5 40,-664.5\" stroke=\"black\"/>\n",
       "<text font-family=\"Times New Roman,serif\" font-size=\"14.00\" text-anchor=\"middle\" x=\"106.5\" y=\"-683.8\">input_13: InputLayer</text>\n",
       "<polyline fill=\"none\" points=\"173,-664.5 173,-710.5 \" stroke=\"black\"/>\n",
       "<text font-family=\"Times New Roman,serif\" font-size=\"14.00\" text-anchor=\"middle\" x=\"201\" y=\"-695.3\">input:</text>\n",
       "<polyline fill=\"none\" points=\"173,-687.5 229,-687.5 \" stroke=\"black\"/>\n",
       "<text font-family=\"Times New Roman,serif\" font-size=\"14.00\" text-anchor=\"middle\" x=\"201\" y=\"-672.3\">output:</text>\n",
       "<polyline fill=\"none\" points=\"229,-664.5 229,-710.5 \" stroke=\"black\"/>\n",
       "<text font-family=\"Times New Roman,serif\" font-size=\"14.00\" text-anchor=\"middle\" x=\"289.5\" y=\"-695.3\">[(None, 28, 28, 1)]</text>\n",
       "<polyline fill=\"none\" points=\"229,-687.5 350,-687.5 \" stroke=\"black\"/>\n",
       "<text font-family=\"Times New Roman,serif\" font-size=\"14.00\" text-anchor=\"middle\" x=\"289.5\" y=\"-672.3\">[(None, 28, 28, 1)]</text>\n",
       "</g>\n",
       "<!-- 1368891409688 -->\n",
       "<g class=\"node\" id=\"node2\"><title>1368891409688</title>\n",
       "<polygon fill=\"none\" points=\"44,-581.5 44,-627.5 346,-627.5 346,-581.5 44,-581.5\" stroke=\"black\"/>\n",
       "<text font-family=\"Times New Roman,serif\" font-size=\"14.00\" text-anchor=\"middle\" x=\"111\" y=\"-600.8\">conv2d_34: Conv2D</text>\n",
       "<polyline fill=\"none\" points=\"178,-581.5 178,-627.5 \" stroke=\"black\"/>\n",
       "<text font-family=\"Times New Roman,serif\" font-size=\"14.00\" text-anchor=\"middle\" x=\"206\" y=\"-612.3\">input:</text>\n",
       "<polyline fill=\"none\" points=\"178,-604.5 234,-604.5 \" stroke=\"black\"/>\n",
       "<text font-family=\"Times New Roman,serif\" font-size=\"14.00\" text-anchor=\"middle\" x=\"206\" y=\"-589.3\">output:</text>\n",
       "<polyline fill=\"none\" points=\"234,-581.5 234,-627.5 \" stroke=\"black\"/>\n",
       "<text font-family=\"Times New Roman,serif\" font-size=\"14.00\" text-anchor=\"middle\" x=\"290\" y=\"-612.3\">(None, 28, 28, 1)</text>\n",
       "<polyline fill=\"none\" points=\"234,-604.5 346,-604.5 \" stroke=\"black\"/>\n",
       "<text font-family=\"Times New Roman,serif\" font-size=\"14.00\" text-anchor=\"middle\" x=\"290\" y=\"-589.3\">(None, 28, 28, 6)</text>\n",
       "</g>\n",
       "<!-- 1368891409520&#45;&gt;1368891409688 -->\n",
       "<g class=\"edge\" id=\"edge1\"><title>1368891409520-&gt;1368891409688</title>\n",
       "<path d=\"M195,-664.366C195,-656.152 195,-646.658 195,-637.725\" fill=\"none\" stroke=\"black\"/>\n",
       "<polygon fill=\"black\" points=\"198.5,-637.607 195,-627.607 191.5,-637.607 198.5,-637.607\" stroke=\"black\"/>\n",
       "</g>\n",
       "<!-- 1368891444024 -->\n",
       "<g class=\"node\" id=\"node3\"><title>1368891444024</title>\n",
       "<polygon fill=\"none\" points=\"3.5,-498.5 3.5,-544.5 386.5,-544.5 386.5,-498.5 3.5,-498.5\" stroke=\"black\"/>\n",
       "<text font-family=\"Times New Roman,serif\" font-size=\"14.00\" text-anchor=\"middle\" x=\"111\" y=\"-517.8\">max_pooling2d_22: MaxPooling2D</text>\n",
       "<polyline fill=\"none\" points=\"218.5,-498.5 218.5,-544.5 \" stroke=\"black\"/>\n",
       "<text font-family=\"Times New Roman,serif\" font-size=\"14.00\" text-anchor=\"middle\" x=\"246.5\" y=\"-529.3\">input:</text>\n",
       "<polyline fill=\"none\" points=\"218.5,-521.5 274.5,-521.5 \" stroke=\"black\"/>\n",
       "<text font-family=\"Times New Roman,serif\" font-size=\"14.00\" text-anchor=\"middle\" x=\"246.5\" y=\"-506.3\">output:</text>\n",
       "<polyline fill=\"none\" points=\"274.5,-498.5 274.5,-544.5 \" stroke=\"black\"/>\n",
       "<text font-family=\"Times New Roman,serif\" font-size=\"14.00\" text-anchor=\"middle\" x=\"330.5\" y=\"-529.3\">(None, 28, 28, 6)</text>\n",
       "<polyline fill=\"none\" points=\"274.5,-521.5 386.5,-521.5 \" stroke=\"black\"/>\n",
       "<text font-family=\"Times New Roman,serif\" font-size=\"14.00\" text-anchor=\"middle\" x=\"330.5\" y=\"-506.3\">(None, 14, 14, 6)</text>\n",
       "</g>\n",
       "<!-- 1368891409688&#45;&gt;1368891444024 -->\n",
       "<g class=\"edge\" id=\"edge2\"><title>1368891409688-&gt;1368891444024</title>\n",
       "<path d=\"M195,-581.366C195,-573.152 195,-563.658 195,-554.725\" fill=\"none\" stroke=\"black\"/>\n",
       "<polygon fill=\"black\" points=\"198.5,-554.607 195,-544.607 191.5,-554.607 198.5,-554.607\" stroke=\"black\"/>\n",
       "</g>\n",
       "<!-- 1368891518648 -->\n",
       "<g class=\"node\" id=\"node4\"><title>1368891518648</title>\n",
       "<polygon fill=\"none\" points=\"40.5,-415.5 40.5,-461.5 349.5,-461.5 349.5,-415.5 40.5,-415.5\" stroke=\"black\"/>\n",
       "<text font-family=\"Times New Roman,serif\" font-size=\"14.00\" text-anchor=\"middle\" x=\"107.5\" y=\"-434.8\">conv2d_35: Conv2D</text>\n",
       "<polyline fill=\"none\" points=\"174.5,-415.5 174.5,-461.5 \" stroke=\"black\"/>\n",
       "<text font-family=\"Times New Roman,serif\" font-size=\"14.00\" text-anchor=\"middle\" x=\"202.5\" y=\"-446.3\">input:</text>\n",
       "<polyline fill=\"none\" points=\"174.5,-438.5 230.5,-438.5 \" stroke=\"black\"/>\n",
       "<text font-family=\"Times New Roman,serif\" font-size=\"14.00\" text-anchor=\"middle\" x=\"202.5\" y=\"-423.3\">output:</text>\n",
       "<polyline fill=\"none\" points=\"230.5,-415.5 230.5,-461.5 \" stroke=\"black\"/>\n",
       "<text font-family=\"Times New Roman,serif\" font-size=\"14.00\" text-anchor=\"middle\" x=\"290\" y=\"-446.3\">(None, 14, 14, 6)</text>\n",
       "<polyline fill=\"none\" points=\"230.5,-438.5 349.5,-438.5 \" stroke=\"black\"/>\n",
       "<text font-family=\"Times New Roman,serif\" font-size=\"14.00\" text-anchor=\"middle\" x=\"290\" y=\"-423.3\">(None, 14, 14, 16)</text>\n",
       "</g>\n",
       "<!-- 1368891444024&#45;&gt;1368891518648 -->\n",
       "<g class=\"edge\" id=\"edge3\"><title>1368891444024-&gt;1368891518648</title>\n",
       "<path d=\"M195,-498.366C195,-490.152 195,-480.658 195,-471.725\" fill=\"none\" stroke=\"black\"/>\n",
       "<polygon fill=\"black\" points=\"198.5,-471.607 195,-461.607 191.5,-471.607 198.5,-471.607\" stroke=\"black\"/>\n",
       "</g>\n",
       "<!-- 1368891518144 -->\n",
       "<g class=\"node\" id=\"node5\"><title>1368891518144</title>\n",
       "<polygon fill=\"none\" points=\"0,-332.5 0,-378.5 390,-378.5 390,-332.5 0,-332.5\" stroke=\"black\"/>\n",
       "<text font-family=\"Times New Roman,serif\" font-size=\"14.00\" text-anchor=\"middle\" x=\"107.5\" y=\"-351.8\">max_pooling2d_23: MaxPooling2D</text>\n",
       "<polyline fill=\"none\" points=\"215,-332.5 215,-378.5 \" stroke=\"black\"/>\n",
       "<text font-family=\"Times New Roman,serif\" font-size=\"14.00\" text-anchor=\"middle\" x=\"243\" y=\"-363.3\">input:</text>\n",
       "<polyline fill=\"none\" points=\"215,-355.5 271,-355.5 \" stroke=\"black\"/>\n",
       "<text font-family=\"Times New Roman,serif\" font-size=\"14.00\" text-anchor=\"middle\" x=\"243\" y=\"-340.3\">output:</text>\n",
       "<polyline fill=\"none\" points=\"271,-332.5 271,-378.5 \" stroke=\"black\"/>\n",
       "<text font-family=\"Times New Roman,serif\" font-size=\"14.00\" text-anchor=\"middle\" x=\"330.5\" y=\"-363.3\">(None, 14, 14, 16)</text>\n",
       "<polyline fill=\"none\" points=\"271,-355.5 390,-355.5 \" stroke=\"black\"/>\n",
       "<text font-family=\"Times New Roman,serif\" font-size=\"14.00\" text-anchor=\"middle\" x=\"330.5\" y=\"-340.3\">(None, 7, 7, 16)</text>\n",
       "</g>\n",
       "<!-- 1368891518648&#45;&gt;1368891518144 -->\n",
       "<g class=\"edge\" id=\"edge4\"><title>1368891518648-&gt;1368891518144</title>\n",
       "<path d=\"M195,-415.366C195,-407.152 195,-397.658 195,-388.725\" fill=\"none\" stroke=\"black\"/>\n",
       "<polygon fill=\"black\" points=\"198.5,-388.607 195,-378.607 191.5,-388.607 198.5,-388.607\" stroke=\"black\"/>\n",
       "</g>\n",
       "<!-- 1368891552376 -->\n",
       "<g class=\"node\" id=\"node6\"><title>1368891552376</title>\n",
       "<polygon fill=\"none\" points=\"44,-249.5 44,-295.5 346,-295.5 346,-249.5 44,-249.5\" stroke=\"black\"/>\n",
       "<text font-family=\"Times New Roman,serif\" font-size=\"14.00\" text-anchor=\"middle\" x=\"111\" y=\"-268.8\">conv2d_36: Conv2D</text>\n",
       "<polyline fill=\"none\" points=\"178,-249.5 178,-295.5 \" stroke=\"black\"/>\n",
       "<text font-family=\"Times New Roman,serif\" font-size=\"14.00\" text-anchor=\"middle\" x=\"206\" y=\"-280.3\">input:</text>\n",
       "<polyline fill=\"none\" points=\"178,-272.5 234,-272.5 \" stroke=\"black\"/>\n",
       "<text font-family=\"Times New Roman,serif\" font-size=\"14.00\" text-anchor=\"middle\" x=\"206\" y=\"-257.3\">output:</text>\n",
       "<polyline fill=\"none\" points=\"234,-249.5 234,-295.5 \" stroke=\"black\"/>\n",
       "<text font-family=\"Times New Roman,serif\" font-size=\"14.00\" text-anchor=\"middle\" x=\"290\" y=\"-280.3\">(None, 7, 7, 16)</text>\n",
       "<polyline fill=\"none\" points=\"234,-272.5 346,-272.5 \" stroke=\"black\"/>\n",
       "<text font-family=\"Times New Roman,serif\" font-size=\"14.00\" text-anchor=\"middle\" x=\"290\" y=\"-257.3\">(None, 7, 7, 120)</text>\n",
       "</g>\n",
       "<!-- 1368891518144&#45;&gt;1368891552376 -->\n",
       "<g class=\"edge\" id=\"edge5\"><title>1368891518144-&gt;1368891552376</title>\n",
       "<path d=\"M195,-332.366C195,-324.152 195,-314.658 195,-305.725\" fill=\"none\" stroke=\"black\"/>\n",
       "<polygon fill=\"black\" points=\"198.5,-305.607 195,-295.607 191.5,-305.607 198.5,-305.607\" stroke=\"black\"/>\n",
       "</g>\n",
       "<!-- 1368891582224 -->\n",
       "<g class=\"node\" id=\"node7\"><title>1368891582224</title>\n",
       "<polygon fill=\"none\" points=\"53,-166.5 53,-212.5 337,-212.5 337,-166.5 53,-166.5\" stroke=\"black\"/>\n",
       "<text font-family=\"Times New Roman,serif\" font-size=\"14.00\" text-anchor=\"middle\" x=\"111\" y=\"-185.8\">flatten_11: Flatten</text>\n",
       "<polyline fill=\"none\" points=\"169,-166.5 169,-212.5 \" stroke=\"black\"/>\n",
       "<text font-family=\"Times New Roman,serif\" font-size=\"14.00\" text-anchor=\"middle\" x=\"197\" y=\"-197.3\">input:</text>\n",
       "<polyline fill=\"none\" points=\"169,-189.5 225,-189.5 \" stroke=\"black\"/>\n",
       "<text font-family=\"Times New Roman,serif\" font-size=\"14.00\" text-anchor=\"middle\" x=\"197\" y=\"-174.3\">output:</text>\n",
       "<polyline fill=\"none\" points=\"225,-166.5 225,-212.5 \" stroke=\"black\"/>\n",
       "<text font-family=\"Times New Roman,serif\" font-size=\"14.00\" text-anchor=\"middle\" x=\"281\" y=\"-197.3\">(None, 7, 7, 120)</text>\n",
       "<polyline fill=\"none\" points=\"225,-189.5 337,-189.5 \" stroke=\"black\"/>\n",
       "<text font-family=\"Times New Roman,serif\" font-size=\"14.00\" text-anchor=\"middle\" x=\"281\" y=\"-174.3\">(None, 5880)</text>\n",
       "</g>\n",
       "<!-- 1368891552376&#45;&gt;1368891582224 -->\n",
       "<g class=\"edge\" id=\"edge6\"><title>1368891552376-&gt;1368891582224</title>\n",
       "<path d=\"M195,-249.366C195,-241.152 195,-231.658 195,-222.725\" fill=\"none\" stroke=\"black\"/>\n",
       "<polygon fill=\"black\" points=\"198.5,-222.607 195,-212.607 191.5,-222.607 198.5,-222.607\" stroke=\"black\"/>\n",
       "</g>\n",
       "<!-- 1368891580992 -->\n",
       "<g class=\"node\" id=\"node8\"><title>1368891580992</title>\n",
       "<polygon fill=\"none\" points=\"66.5,-83.5 66.5,-129.5 323.5,-129.5 323.5,-83.5 66.5,-83.5\" stroke=\"black\"/>\n",
       "<text font-family=\"Times New Roman,serif\" font-size=\"14.00\" text-anchor=\"middle\" x=\"122\" y=\"-102.8\">dense_16: Dense</text>\n",
       "<polyline fill=\"none\" points=\"177.5,-83.5 177.5,-129.5 \" stroke=\"black\"/>\n",
       "<text font-family=\"Times New Roman,serif\" font-size=\"14.00\" text-anchor=\"middle\" x=\"205.5\" y=\"-114.3\">input:</text>\n",
       "<polyline fill=\"none\" points=\"177.5,-106.5 233.5,-106.5 \" stroke=\"black\"/>\n",
       "<text font-family=\"Times New Roman,serif\" font-size=\"14.00\" text-anchor=\"middle\" x=\"205.5\" y=\"-91.3\">output:</text>\n",
       "<polyline fill=\"none\" points=\"233.5,-83.5 233.5,-129.5 \" stroke=\"black\"/>\n",
       "<text font-family=\"Times New Roman,serif\" font-size=\"14.00\" text-anchor=\"middle\" x=\"278.5\" y=\"-114.3\">(None, 5880)</text>\n",
       "<polyline fill=\"none\" points=\"233.5,-106.5 323.5,-106.5 \" stroke=\"black\"/>\n",
       "<text font-family=\"Times New Roman,serif\" font-size=\"14.00\" text-anchor=\"middle\" x=\"278.5\" y=\"-91.3\">(None, 84)</text>\n",
       "</g>\n",
       "<!-- 1368891582224&#45;&gt;1368891580992 -->\n",
       "<g class=\"edge\" id=\"edge7\"><title>1368891582224-&gt;1368891580992</title>\n",
       "<path d=\"M195,-166.366C195,-158.152 195,-148.658 195,-139.725\" fill=\"none\" stroke=\"black\"/>\n",
       "<polygon fill=\"black\" points=\"198.5,-139.607 195,-129.607 191.5,-139.607 198.5,-139.607\" stroke=\"black\"/>\n",
       "</g>\n",
       "<!-- 1368891583792 -->\n",
       "<g class=\"node\" id=\"node9\"><title>1368891583792</title>\n",
       "<polygon fill=\"none\" points=\"73,-0.5 73,-46.5 317,-46.5 317,-0.5 73,-0.5\" stroke=\"black\"/>\n",
       "<text font-family=\"Times New Roman,serif\" font-size=\"14.00\" text-anchor=\"middle\" x=\"128.5\" y=\"-19.8\">dense_17: Dense</text>\n",
       "<polyline fill=\"none\" points=\"184,-0.5 184,-46.5 \" stroke=\"black\"/>\n",
       "<text font-family=\"Times New Roman,serif\" font-size=\"14.00\" text-anchor=\"middle\" x=\"212\" y=\"-31.3\">input:</text>\n",
       "<polyline fill=\"none\" points=\"184,-23.5 240,-23.5 \" stroke=\"black\"/>\n",
       "<text font-family=\"Times New Roman,serif\" font-size=\"14.00\" text-anchor=\"middle\" x=\"212\" y=\"-8.3\">output:</text>\n",
       "<polyline fill=\"none\" points=\"240,-0.5 240,-46.5 \" stroke=\"black\"/>\n",
       "<text font-family=\"Times New Roman,serif\" font-size=\"14.00\" text-anchor=\"middle\" x=\"278.5\" y=\"-31.3\">(None, 84)</text>\n",
       "<polyline fill=\"none\" points=\"240,-23.5 317,-23.5 \" stroke=\"black\"/>\n",
       "<text font-family=\"Times New Roman,serif\" font-size=\"14.00\" text-anchor=\"middle\" x=\"278.5\" y=\"-8.3\">(None, 62)</text>\n",
       "</g>\n",
       "<!-- 1368891580992&#45;&gt;1368891583792 -->\n",
       "<g class=\"edge\" id=\"edge8\"><title>1368891580992-&gt;1368891583792</title>\n",
       "<path d=\"M195,-83.3664C195,-75.1516 195,-65.6579 195,-56.7252\" fill=\"none\" stroke=\"black\"/>\n",
       "<polygon fill=\"black\" points=\"198.5,-56.6068 195,-46.6068 191.5,-56.6069 198.5,-56.6068\" stroke=\"black\"/>\n",
       "</g>\n",
       "</g>\n",
       "</svg>"
      ],
      "text/plain": [
       "<IPython.core.display.SVG object>"
      ]
     },
     "execution_count": 38,
     "metadata": {},
     "output_type": "execute_result"
    }
   ],
   "source": [
    "# pydot lib 설치 필요\n",
    "import pydotplus as pydot\n",
    "from tensorflow.keras.utils import plot_model\n",
    "\n",
    "plot_model(lenet5_Model, to_file='lenet5_Model.png')\n",
    "\n",
    "# visualize our model\n",
    "from IPython.display import SVG\n",
    "from keras.utils.vis_utils import model_to_dot\n",
    "SVG(model_to_dot(lenet5_Model, show_shapes=True, dpi=50).create(prog='dot', format='svg'))\n",
    "# SVG(model_to_dot(inception_Model, dpi=50).create(prog='dot', format='svg'))"
   ]
  },
  {
   "cell_type": "code",
   "execution_count": 40,
   "id": "93e88a2e",
   "metadata": {},
   "outputs": [
    {
     "name": "stdout",
     "output_type": "stream",
     "text": [
      "Epoch 1/10\n",
      "8725/8725 [==============================] - 172s 20ms/step - loss: 0.4449 - accuracy: 0.8412 - val_loss: 0.4001 - val_accuracy: 0.8564\n",
      "WARNING:tensorflow:Can save best model only with val_accuary available, skipping.\n",
      "Epoch 2/10\n",
      "8725/8725 [==============================] - 169s 19ms/step - loss: 0.3819 - accuracy: 0.8589 - val_loss: 0.3854 - val_accuracy: 0.8602\n",
      "WARNING:tensorflow:Can save best model only with val_accuary available, skipping.\n",
      "Epoch 3/10\n",
      "8725/8725 [==============================] - 175s 20ms/step - loss: 0.3598 - accuracy: 0.8653 - val_loss: 0.3798 - val_accuracy: 0.8606\n",
      "WARNING:tensorflow:Can save best model only with val_accuary available, skipping.\n",
      "Epoch 4/10\n",
      "8725/8725 [==============================] - 168s 19ms/step - loss: 0.3455 - accuracy: 0.8694 - val_loss: 0.3710 - val_accuracy: 0.8622\n",
      "WARNING:tensorflow:Can save best model only with val_accuary available, skipping.\n",
      "Restoring model weights from the end of the best epoch.\n",
      "Epoch 00004: early stopping\n"
     ]
    }
   ],
   "source": [
    "from keras.callbacks import ModelCheckpoint\n",
    "from keras.callbacks import EarlyStopping\n",
    "\n",
    "# checkpoint\n",
    "filepath=\"model_val_loss.best.hdf5\"\n",
    "checkpoint_acc = ModelCheckpoint(filepath, monitor='val_accuary', verbose=1, save_best_only=True, mode='auto')\n",
    "# Early Stopping\n",
    "earlyStopping_acc = EarlyStopping(monitor='val_accuracy', min_delta=0.01, patience=3, verbose=1, mode='auto', baseline=None, restore_best_weights=True)\n",
    "\n",
    "callbacks_list = [checkpoint_acc, earlyStopping_acc]\n",
    "\n",
    "# optimizer SGD 사용함\n",
    "optimizer_SGD = keras.optimizers.SGD(momentum=0.9)\n",
    "\n",
    "lenet5_Model.compile(loss='categorical_crossentropy',optimizer=optimizer_SGD, metrics=['accuracy'])\n",
    "lenet_history = lenet5_Model.fit(X_train, y_train,\n",
    "                                        batch_size=64,\n",
    "                                        epochs=10,\n",
    "                                        validation_data=(X_valid, y_valid),\n",
    "                                        callbacks=callbacks_list)"
   ]
  },
  {
   "cell_type": "code",
   "execution_count": 41,
   "id": "781355ff",
   "metadata": {},
   "outputs": [
    {
     "name": "stdout",
     "output_type": "stream",
     "text": [
      "3636/3636 [==============================] - 14s 4ms/step - loss: 0.3985 - accuracy: 0.8554\n",
      "\n",
      "Test acc:  [0.39854997396469116, 0.8553841710090637]\n"
     ]
    }
   ],
   "source": [
    "score = lenet5_Model.evaluate(X_test, y_test)\n",
    "print('\\nTest acc: ', score)"
   ]
  },
  {
   "cell_type": "code",
   "execution_count": 42,
   "id": "21f7b99a",
   "metadata": {},
   "outputs": [
    {
     "data": {
      "image/png": "[encoded data removed]",
      "text/plain": [
       "<Figure size 576x360 with 1 Axes>"
      ]
     },
     "metadata": {
      "needs_background": "light"
     },
     "output_type": "display_data"
    }
   ],
   "source": [
    "pd.DataFrame(lenet_history.history).plot(figsize=(8, 5))\n",
    "plt.grid(True)\n",
    "plt.gca().set_ylim(0, 1)\n",
    "plt.show()"
   ]
  },
  {
   "cell_type": "markdown",
   "id": "03d08bef",
   "metadata": {},
   "source": [
    "## MobileV2"
   ]
  },
  {
   "cell_type": "code",
   "execution_count": 47,
   "id": "230978ff",
   "metadata": {},
   "outputs": [],
   "source": [
    "from tensorflow.keras.applications import MobileNet\n",
    "from keras.models import Sequential,Model \n",
    "from keras.layers import Dense,Dropout,Activation,Flatten,GlobalAveragePooling2D\n",
    "from keras.layers import Conv2D,MaxPooling2D,ZeroPadding2D\n",
    "from keras.layers import BatchNormalization\n",
    "from keras.preprocessing.image import ImageDataGenerator"
   ]
  },
  {
   "cell_type": "code",
   "execution_count": 51,
   "id": "6c1a347f",
   "metadata": {},
   "outputs": [],
   "source": [
    "# 32*32 이상이어야 해서 불러오는건 포기\n",
    "# img_rows,img_cols = 224, 224\n",
    "# MobileNet = MobileNet(weights=None,include_top=False,input_shape=(img_rows,img_cols,1))"
   ]
  },
  {
   "cell_type": "code",
   "execution_count": null,
   "id": "440d65b0",
   "metadata": {},
   "outputs": [],
   "source": []
  }
 ],
 "metadata": {
  "kernelspec": {
   "display_name": "Python 3",
   "language": "python",
   "name": "python3"
  },
  "language_info": {
   "codemirror_mode": {
    "name": "ipython",
    "version": 3
   },
   "file_extension": ".py",
   "mimetype": "text/x-python",
   "name": "python",
   "nbconvert_exporter": "python",
   "pygments_lexer": "ipython3",
   "version": "3.6.7"
  }
 },
 "nbformat": 4,
 "nbformat_minor": 5
}
