{
 "cells": [
  {
   "cell_type": "code",
   "execution_count": 46,
   "id": "422b1ddb",
   "metadata": {},
   "outputs": [
    {
     "name": "stdout",
     "output_type": "stream",
     "text": [
      "sklearn version:  0.24.2\n",
      "TF version:  2.8.0\n",
      "GPU installed:  True\n",
      "1 Physical GPUs, 1 Logical GPUs\n"
     ]
    }
   ],
   "source": [
    "# Python ≥3.5 is required\n",
    "import sys\n",
    "assert sys.version_info >= (3, 5)\n",
    "\n",
    "# Scikit-Learn ≥0.20 is required\n",
    "import sklearn\n",
    "print(\"sklearn version: \", sklearn.__version__)\n",
    "assert sklearn.__version__ >= \"0.20\"\n",
    "\n",
    "try:\n",
    "    # %tensorflow_version only exists in Colab.\n",
    "    %tensorflow_version 2.x\n",
    "    IS_COLAB = True\n",
    "except Exception:\n",
    "    IS_COLAB = False\n",
    "\n",
    "# TensorFlow ≥2.0 is required\n",
    "import tensorflow as tf\n",
    "from tensorflow import keras\n",
    "print(\"TF version: \", tf.__version__)\n",
    "assert tf.__version__ >= \"2.0\"\n",
    "\n",
    "if not tf.config.list_physical_devices('GPU'):\n",
    "    print(\"No GPU was detected. CNNs can be very slow without a GPU.\")\n",
    "    if IS_COLAB:\n",
    "        print(\"Go to Runtime > Change runtime and select a GPU hardware accelerator.\")\n",
    "\n",
    "# GPU test\n",
    "print(\"GPU installed: \",tf.test.is_built_with_gpu_support())\n",
    "\n",
    "# To prevent \"CUDNN_STATUS_ALLOC_FAILED\" error with GPUs\n",
    "gpus = tf.config.experimental.list_physical_devices('GPU')\n",
    "if gpus:\n",
    "  try:\n",
    "    # Currently, memory growth needs to be the same across GPUs\n",
    "    for gpu in gpus:\n",
    "      tf.config.experimental.set_memory_growth(gpu, True)\n",
    "    logical_gpus = tf.config.experimental.list_logical_devices('GPU')\n",
    "    print(len(gpus), \"Physical GPUs,\", len(logical_gpus), \"Logical GPUs\")\n",
    "  except RuntimeError as e:\n",
    "    # Memory growth must be set before GPUs have been initialized\n",
    "    print(e)\n",
    "    \n",
    "# Common imports\n",
    "import numpy as np\n",
    "import os\n",
    "\n",
    "# to make this notebook's output stable across runs\n",
    "np.random.seed(42)\n",
    "tf.random.set_seed(42)\n",
    "\n",
    "# To plot pretty figures\n",
    "%matplotlib inline\n",
    "import matplotlib as mpl\n",
    "import matplotlib.pyplot as plt\n",
    "mpl.rc('axes', labelsize=14)\n",
    "mpl.rc('xtick', labelsize=12)\n",
    "mpl.rc('ytick', labelsize=12)\n",
    "\n",
    "# Where to save the figures\n",
    "PROJECT_ROOT_DIR = \".\"\n",
    "CHAPTER_ID = \"cnn\"\n",
    "IMAGES_PATH = os.path.join(PROJECT_ROOT_DIR, \"images\", CHAPTER_ID)\n",
    "os.makedirs(IMAGES_PATH, exist_ok=True)\n",
    "\n",
    "def save_fig(fig_id, tight_layout=True, fig_extension=\"png\", resolution=300):\n",
    "    path = os.path.join(IMAGES_PATH, fig_id + \".\" + fig_extension)\n",
    "    print(\"Saving figure\", fig_id)\n",
    "    if tight_layout:\n",
    "        plt.tight_layout()\n",
    "    plt.savefig(path, format=fig_extension, dpi=resolution)\n",
    "    \n",
    "# Ignore useless warnings (see SciPy issue #5998)\n",
    "import warnings\n",
    "warnings.filterwarnings(action=\"ignore\", message=\"^internal gelsd\")    "
   ]
  },
  {
   "cell_type": "code",
   "execution_count": 47,
   "id": "415de353",
   "metadata": {},
   "outputs": [
    {
     "name": "stdout",
     "output_type": "stream",
     "text": [
      "Train: (697931, 785), Test: (116322, 785), Map: (62,)\n"
     ]
    }
   ],
   "source": [
    "# Load EMNIST dataset\n",
    "import pandas as pd\n",
    "\n",
    "train = balanced_train = pd.read_csv(\"emnist-byclass-train.csv\")\n",
    "test = balanced_test = pd.read_csv(\"emnist-byclass-test.csv\")\n",
    "mapp = pd.read_csv(\"emnist-byclass-mapping.txt\", \n",
    "                   delimiter = ' ', index_col=0, header=None, squeeze=True)\n",
    "print(\"Train: %s, Test: %s, Map: %s\" %(train.shape, test.shape, mapp.shape))"
   ]
  },
  {
   "cell_type": "code",
   "execution_count": 48,
   "id": "95e50e14",
   "metadata": {},
   "outputs": [
    {
     "name": "stdout",
     "output_type": "stream",
     "text": [
      "(697931, 784) (697931,) (116322, 784) (116322,)\n"
     ]
    }
   ],
   "source": [
    "# Split x and y\n",
    "X_train = train.iloc[:,1:]\n",
    "y_train = train.iloc[:,0]\n",
    "del train\n",
    "\n",
    "X_test = test.iloc[:,1:]\n",
    "y_test = test.iloc[:,0]\n",
    "del test\n",
    "\n",
    "print(X_train.shape,y_train.shape,X_test.shape,y_test.shape)"
   ]
  },
  {
   "cell_type": "code",
   "execution_count": 49,
   "id": "d11eb71b",
   "metadata": {},
   "outputs": [
    {
     "name": "stdout",
     "output_type": "stream",
     "text": [
      "X_train: (697931, 28, 28)\n",
      "X_test: (116322, 28, 28)\n"
     ]
    }
   ],
   "source": [
    "#preprocesssing\n",
    "HEIGHT = 28\n",
    "WIDTH = 28\n",
    "\n",
    "def rotate(image):\n",
    "    image = image.reshape([HEIGHT, WIDTH])\n",
    "    image = np.fliplr(image)\n",
    "    image = np.rot90(image)\n",
    "    return image\n",
    "\n",
    "# Flip and rotate image\n",
    "X_train = np.asarray(X_train)\n",
    "X_train = np.apply_along_axis(rotate, 1, X_train)\n",
    "print (\"X_train:\",X_train.shape)\n",
    "\n",
    "X_test = np.asarray(X_test)\n",
    "X_test = np.apply_along_axis(rotate, 1, X_test)\n",
    "print (\"X_test:\",X_test.shape)"
   ]
  },
  {
   "cell_type": "code",
   "execution_count": 50,
   "id": "cb7e14d3",
   "metadata": {},
   "outputs": [],
   "source": [
    "# Normalize\n",
    "X_train = X_train.astype('float32')\n",
    "X_train /= 255\n",
    "X_test = X_test.astype('float32')\n",
    "X_test /= 255"
   ]
  },
  {
   "cell_type": "code",
   "execution_count": 51,
   "id": "23844789",
   "metadata": {},
   "outputs": [
    {
     "data": {
      "image/png": "[encoded data removed]",
      "text/plain": [
       "<Figure size 432x288 with 9 Axes>"
      ]
     },
     "metadata": {
      "needs_background": "light"
     },
     "output_type": "display_data"
    }
   ],
   "source": [
    "# plot image\n",
    "for i in range(100, 109):\n",
    "    plt.subplot(330 + (i+1))\n",
    "    plt.imshow(X_train[i], cmap=plt.get_cmap('gray'))\n",
    "    plt.title(chr(mapp[y_train[i]]))"
   ]
  },
  {
   "cell_type": "code",
   "execution_count": 52,
   "id": "790c9e92",
   "metadata": {},
   "outputs": [
    {
     "name": "stdout",
     "output_type": "stream",
     "text": [
      "y_train:  (697931, 62)\n",
      "y_test:  (116322, 62)\n"
     ]
    }
   ],
   "source": [
    "from keras.utils import np_utils\n",
    "\n",
    "# number of classes\n",
    "num_classes = y_train.nunique()\n",
    "\n",
    "# One hot encoding\n",
    "y_train = np_utils.to_categorical(y_train, num_classes)\n",
    "y_test = np_utils.to_categorical(y_test, num_classes)\n",
    "print(\"y_train: \", y_train.shape)\n",
    "print(\"y_test: \", y_test.shape)"
   ]
  },
  {
   "cell_type": "code",
   "execution_count": 53,
   "id": "84648df1",
   "metadata": {},
   "outputs": [],
   "source": [
    "# Reshape image for CNN\n",
    "X_train = X_train.reshape(-1, HEIGHT, WIDTH, 1)\n",
    "X_test = X_test.reshape(-1, HEIGHT, WIDTH, 1)"
   ]
  },
  {
   "cell_type": "code",
   "execution_count": 54,
   "id": "ab417e0b",
   "metadata": {},
   "outputs": [],
   "source": [
    "# partition to train and val\n",
    "from sklearn.model_selection import train_test_split\n",
    "\n",
    "X_train, X_valid, y_train, y_valid = train_test_split(X_train, y_train, test_size= 0.20, random_state=7)"
   ]
  },
  {
   "cell_type": "code",
   "execution_count": null,
   "id": "79e40779",
   "metadata": {},
   "outputs": [],
   "source": [
    "# Define VGG_11 변형(VGG-5) 기본, batchsize=256\n",
    "tf.random.set_seed(42)\n",
    "np.random.seed(42)\n",
    "\n",
    "from functools import partial\n",
    "\n",
    "DefaultConv2D_G = partial(keras.layers.Conv2D, kernel_size=3, activation='relu', padding=\"SAME\")\n",
    "\n",
    "model31 = keras.models.Sequential([\n",
    "    DefaultConv2D_G(filters=32, input_shape=[28, 28, 1]),\n",
    "    DefaultConv2D_G(filters=32),\n",
    "    keras.layers.MaxPooling2D(pool_size=2, strides=2),\n",
    "    DefaultConv2D_G(filters=64),\n",
    "    DefaultConv2D_G(filters=64),\n",
    "    keras.layers.MaxPooling2D(pool_size=2, strides=2),\n",
    "    DefaultConv2D_G(filters=128),\n",
    "    DefaultConv2D_G(filters=128),\n",
    "    keras.layers.MaxPooling2D(pool_size=2, strides=2),\n",
    "\n",
    "    keras.layers.Flatten(),\n",
    "    keras.layers.Dense(units=64, activation='relu'),\n",
    "    keras.layers.Dropout(0.5),\n",
    "    keras.layers.Dense(units=62, activation='softmax')\n",
    "])\n",
    "\n",
    "model31.summary()"
   ]
  },
  {
   "cell_type": "code",
   "execution_count": null,
   "id": "eb123de1",
   "metadata": {},
   "outputs": [],
   "source": [
    "# Compile, train and evaluate\n",
    "model31.compile(loss=\"categorical_crossentropy\", optimizer=\"nadam\", metrics=[\"accuracy\"])\n",
    "\n",
    "history = model31.fit(X_train, y_train, epochs=10, batch_size=256, validation_data=(X_valid, y_valid))\n",
    "\n",
    "print(\"\\n\")\n",
    "score = model31.evaluate(X_test, y_test)\n",
    "print('\\nTest Accuracy:', score)"
   ]
  },
  {
   "cell_type": "code",
   "execution_count": 55,
   "id": "f5ea8cdd",
   "metadata": {},
   "outputs": [
    {
     "name": "stdout",
     "output_type": "stream",
     "text": [
      "Model: \"sequential_4\"\n",
      "_________________________________________________________________\n",
      " Layer (type)                Output Shape              Param #   \n",
      "=================================================================\n",
      " conv2d_30 (Conv2D)          (None, 28, 28, 32)        320       \n",
      "                                                                 \n",
      " conv2d_31 (Conv2D)          (None, 28, 28, 32)        9248      \n",
      "                                                                 \n",
      " max_pooling2d_15 (MaxPoolin  (None, 14, 14, 32)       0         \n",
      " g2D)                                                            \n",
      "                                                                 \n",
      " dropout_10 (Dropout)        (None, 14, 14, 32)        0         \n",
      "                                                                 \n",
      " conv2d_32 (Conv2D)          (None, 14, 14, 64)        18496     \n",
      "                                                                 \n",
      " conv2d_33 (Conv2D)          (None, 14, 14, 64)        36928     \n",
      "                                                                 \n",
      " max_pooling2d_16 (MaxPoolin  (None, 7, 7, 64)         0         \n",
      " g2D)                                                            \n",
      "                                                                 \n",
      " dropout_11 (Dropout)        (None, 7, 7, 64)          0         \n",
      "                                                                 \n",
      " conv2d_34 (Conv2D)          (None, 7, 7, 128)         73856     \n",
      "                                                                 \n",
      " conv2d_35 (Conv2D)          (None, 7, 7, 128)         147584    \n",
      "                                                                 \n",
      " max_pooling2d_17 (MaxPoolin  (None, 3, 3, 128)        0         \n",
      " g2D)                                                            \n",
      "                                                                 \n",
      " dropout_12 (Dropout)        (None, 3, 3, 128)         0         \n",
      "                                                                 \n",
      " flatten_4 (Flatten)         (None, 1152)              0         \n",
      "                                                                 \n",
      " batch_normalization_4 (Batc  (None, 1152)             4608      \n",
      " hNormalization)                                                 \n",
      "                                                                 \n",
      " dense_8 (Dense)             (None, 64)                73792     \n",
      "                                                                 \n",
      " batch_normalization_5 (Batc  (None, 64)               256       \n",
      " hNormalization)                                                 \n",
      "                                                                 \n",
      " dropout_13 (Dropout)        (None, 64)                0         \n",
      "                                                                 \n",
      " dense_9 (Dense)             (None, 62)                4030      \n",
      "                                                                 \n",
      "=================================================================\n",
      "Total params: 369,118\n",
      "Trainable params: 366,686\n",
      "Non-trainable params: 2,432\n",
      "_________________________________________________________________\n"
     ]
    }
   ],
   "source": [
    "# VGG-5 add Batch Nomalization(FC), dropout\n",
    "\n",
    "tf.random.set_seed(42)\n",
    "np.random.seed(42)\n",
    "\n",
    "DefaultConv2D_G = partial(keras.layers.Conv2D, kernel_size=3, activation='relu', padding=\"SAME\")\n",
    "\n",
    "model4 = keras.models.Sequential([\n",
    "    DefaultConv2D_G(filters=32, input_shape=[28, 28, 1]),\n",
    "    DefaultConv2D_G(filters=32),\n",
    "    keras.layers.MaxPooling2D(pool_size=2, strides=2),\n",
    "    keras.layers.Dropout(0.25),\n",
    "    \n",
    "    DefaultConv2D_G(filters=64),\n",
    "    DefaultConv2D_G(filters=64),\n",
    "    keras.layers.MaxPooling2D(pool_size=2, strides=2),\n",
    "    keras.layers.Dropout(0.25),\n",
    "    \n",
    "    DefaultConv2D_G(filters=128),\n",
    "    DefaultConv2D_G(filters=128),\n",
    "    keras.layers.MaxPooling2D(pool_size=2, strides=2),\n",
    "    keras.layers.Dropout(0.25),\n",
    "\n",
    "    keras.layers.Flatten(),\n",
    "    keras.layers.BatchNormalization(),\n",
    "    keras.layers.Dense(units=64, activation='relu'),\n",
    "    keras.layers.BatchNormalization(),\n",
    "    keras.layers.Dropout(0.5),\n",
    "    keras.layers.Dense(units=62, activation='softmax')\n",
    "])\n",
    "\n",
    "model4.summary()"
   ]
  },
  {
   "cell_type": "code",
   "execution_count": 56,
   "id": "d70677d8",
   "metadata": {},
   "outputs": [
    {
     "name": "stdout",
     "output_type": "stream",
     "text": [
      "Epoch 1/20\n",
      "2182/2182 [==============================] - 52s 23ms/step - loss: 0.7192 - accuracy: 0.7840 - val_loss: 0.4972 - val_accuracy: 0.8153\n",
      "Epoch 2/20\n",
      "2182/2182 [==============================] - 51s 23ms/step - loss: 0.4547 - accuracy: 0.8433 - val_loss: 0.4914 - val_accuracy: 0.8186\n",
      "Epoch 3/20\n",
      "2182/2182 [==============================] - 62s 28ms/step - loss: 0.4294 - accuracy: 0.8502 - val_loss: 0.3822 - val_accuracy: 0.8595\n",
      "Epoch 4/20\n",
      "2182/2182 [==============================] - 50s 23ms/step - loss: 0.4136 - accuracy: 0.8550 - val_loss: 0.3678 - val_accuracy: 0.8655\n",
      "Epoch 5/20\n",
      "2182/2182 [==============================] - 50s 23ms/step - loss: 0.4024 - accuracy: 0.8573 - val_loss: 0.3947 - val_accuracy: 0.8557\n",
      "Epoch 6/20\n",
      "2182/2182 [==============================] - 50s 23ms/step - loss: 0.3987 - accuracy: 0.8579 - val_loss: 0.3683 - val_accuracy: 0.8662\n",
      "Epoch 7/20\n",
      "2182/2182 [==============================] - 50s 23ms/step - loss: 0.3898 - accuracy: 0.8606 - val_loss: 0.3799 - val_accuracy: 0.8595\n",
      "Epoch 8/20\n",
      "2182/2182 [==============================] - 50s 23ms/step - loss: 0.3870 - accuracy: 0.8619 - val_loss: 0.3409 - val_accuracy: 0.8733\n",
      "Epoch 9/20\n",
      "2182/2182 [==============================] - 49s 23ms/step - loss: 0.3799 - accuracy: 0.8639 - val_loss: 0.3729 - val_accuracy: 0.8642\n",
      "Epoch 10/20\n",
      "2182/2182 [==============================] - 49s 23ms/step - loss: 0.3793 - accuracy: 0.8635 - val_loss: 0.3414 - val_accuracy: 0.8721\n",
      "Epoch 11/20\n",
      "2182/2182 [==============================] - 49s 23ms/step - loss: 0.3717 - accuracy: 0.8660 - val_loss: 0.3433 - val_accuracy: 0.8738\n",
      "Epoch 12/20\n",
      "2182/2182 [==============================] - 50s 23ms/step - loss: 0.3710 - accuracy: 0.8658 - val_loss: 0.3402 - val_accuracy: 0.8742\n",
      "Epoch 13/20\n",
      "2182/2182 [==============================] - 50s 23ms/step - loss: 0.3669 - accuracy: 0.8674 - val_loss: 0.3407 - val_accuracy: 0.8741\n",
      "Epoch 14/20\n",
      "2182/2182 [==============================] - 50s 23ms/step - loss: 0.3648 - accuracy: 0.8680 - val_loss: 0.3356 - val_accuracy: 0.8760\n",
      "Epoch 15/20\n",
      "2182/2182 [==============================] - 50s 23ms/step - loss: 0.3633 - accuracy: 0.8682 - val_loss: 0.3374 - val_accuracy: 0.8755\n",
      "Epoch 16/20\n",
      "2182/2182 [==============================] - 50s 23ms/step - loss: 0.3607 - accuracy: 0.8691 - val_loss: 0.3408 - val_accuracy: 0.8749\n",
      "Epoch 17/20\n",
      "2182/2182 [==============================] - 49s 23ms/step - loss: 0.3576 - accuracy: 0.8697 - val_loss: 0.3352 - val_accuracy: 0.8758\n",
      "Epoch 18/20\n",
      "2182/2182 [==============================] - 49s 23ms/step - loss: 0.3561 - accuracy: 0.8704 - val_loss: 0.3410 - val_accuracy: 0.8727\n",
      "Epoch 19/20\n",
      "2182/2182 [==============================] - 49s 23ms/step - loss: 0.3545 - accuracy: 0.8704 - val_loss: 0.3398 - val_accuracy: 0.8755\n",
      "Epoch 20/20\n",
      "2182/2182 [==============================] - 49s 23ms/step - loss: 0.3525 - accuracy: 0.8709 - val_loss: 0.3419 - val_accuracy: 0.8711\n",
      "\n",
      "\n",
      "3636/3636 [==============================] - 10s 3ms/step - loss: 0.3400 - accuracy: 0.8717\n",
      "\n",
      "Test Accuracy: [0.3400210738182068, 0.8716923594474792]\n"
     ]
    }
   ],
   "source": [
    "# Compile, train and evaluate\n",
    "model4.compile(loss=\"categorical_crossentropy\", optimizer=\"nadam\", metrics=[\"accuracy\"])\n",
    "\n",
    "history = model4.fit(X_train, y_train, epochs=20, batch_size=256, validation_data=(X_valid, y_valid))\n",
    "\n",
    "print(\"\\n\")\n",
    "score = model4.evaluate(X_test, y_test)\n",
    "print('\\nTest Accuracy:', score)"
   ]
  },
  {
   "cell_type": "code",
   "execution_count": null,
   "id": "78c58ed9",
   "metadata": {},
   "outputs": [],
   "source": []
  },
  {
   "cell_type": "code",
   "execution_count": null,
   "id": "8fb4a499",
   "metadata": {},
   "outputs": [],
   "source": []
  },
  {
   "cell_type": "code",
   "execution_count": null,
   "id": "19e40dbc",
   "metadata": {},
   "outputs": [],
   "source": []
  },
  {
   "cell_type": "code",
   "execution_count": null,
   "id": "24ae6008",
   "metadata": {},
   "outputs": [],
   "source": []
  }
 ],
 "metadata": {
  "kernelspec": {
   "display_name": "Python 3",
   "language": "python",
   "name": "python3"
  },
  "language_info": {
   "codemirror_mode": {
    "name": "ipython",
    "version": 3
   },
   "file_extension": ".py",
   "mimetype": "text/x-python",
   "name": "python",
   "nbconvert_exporter": "python",
   "pygments_lexer": "ipython3",
   "version": "3.6.7"
  }
 },
 "nbformat": 4,
 "nbformat_minor": 5
}
